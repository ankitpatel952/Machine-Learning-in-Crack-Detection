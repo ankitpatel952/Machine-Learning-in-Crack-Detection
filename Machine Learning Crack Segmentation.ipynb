{
  "nbformat": 4,
  "nbformat_minor": 0,
  "metadata": {
    "colab": {
      "provenance": [],
      "machine_shape": "hm"
    },
    "kernelspec": {
      "name": "python3",
      "display_name": "Python 3"
    }
  },
  "cells": [
    {
      "cell_type": "code",
      "metadata": {
        "id": "MDKO679VM9mJ",
        "colab": {
          "base_uri": "https://localhost:8080/"
        },
        "outputId": "91f2b50e-72ce-4026-eb56-d338704985ee"
      },
      "source": [
        "from psutil import virtual_memory\n",
        "ram_gb = virtual_memory().total / 1e9\n",
        "print('Your runtime has {:.1f} gigabytes of available RAM\\n'.format(ram_gb))\n",
        "\n",
        "if ram_gb < 20:\n",
        "  print('To enable a high-RAM runtime, select the Runtime > \"Change runtime type\"')\n",
        "  print('menu, and then select High-RAM in the Runtime shape dropdown. Then, ')\n",
        "  print('re-execute this cell.')\n",
        "else:\n",
        "  print('You are using a high-RAM runtime!')"
      ],
      "execution_count": null,
      "outputs": [
        {
          "output_type": "stream",
          "text": [
            "Your runtime has 27.3 gigabytes of available RAM\n",
            "\n",
            "You are using a high-RAM runtime!\n"
          ],
          "name": "stdout"
        }
      ]
    },
    {
      "cell_type": "code",
      "metadata": {
        "id": "G_NPdcHvM6kg",
        "colab": {
          "base_uri": "https://localhost:8080/"
        },
        "outputId": "8593d6e4-140b-4f61-9e15-47615c39e85c"
      },
      "source": [
        "gpu_info = !nvidia-smi\n",
        "gpu_info = '\\n'.join(gpu_info)\n",
        "if gpu_info.find('failed') >= 0:\n",
        "  print('Select the Runtime > \"Change runtime type\" menu to enable a GPU accelerator, ')\n",
        "  print('and then re-execute this cell.')\n",
        "else:\n",
        "  print(gpu_info)"
      ],
      "execution_count": null,
      "outputs": [
        {
          "output_type": "stream",
          "text": [
            "Select the Runtime > \"Change runtime type\" menu to enable a GPU accelerator, \n",
            "and then re-execute this cell.\n"
          ],
          "name": "stdout"
        }
      ]
    },
    {
      "cell_type": "code",
      "metadata": {
        "id": "Lv32Gjn_Kk83",
        "colab": {
          "base_uri": "https://localhost:8080/"
        },
        "outputId": "2fc94557-f22f-4308-c20b-29665edb09ab"
      },
      "source": [
        "from google.colab import drive\n",
        "drive.mount('/content/drive')"
      ],
      "execution_count": null,
      "outputs": [
        {
          "output_type": "stream",
          "text": [
            "Mounted at /content/drive\n"
          ],
          "name": "stdout"
        }
      ]
    },
    {
      "cell_type": "code",
      "metadata": {
        "id": "lTX0kxlFKljS"
      },
      "source": [
        "import cv2\n",
        "path = \"/content/drive/MyDrive/CrackConcreteDataset\""
      ],
      "execution_count": null,
      "outputs": []
    },
    {
      "cell_type": "code",
      "metadata": {
        "id": "heKr2zXzOD7K"
      },
      "source": [
        "import os\n",
        "import sys\n",
        "import random\n",
        "\n",
        "import numpy as np\n",
        "import cv2\n",
        "import matplotlib.pyplot as plt\n",
        "\n",
        "import tensorflow as tf\n",
        "from tensorflow import keras\n",
        "\n",
        "seed = 2019\n",
        "random.seed = seed\n",
        "np.random.seed = seed\n",
        "tf.seed = seed"
      ],
      "execution_count": null,
      "outputs": []
    },
    {
      "cell_type": "code",
      "metadata": {
        "id": "qR46Ck04s-dp"
      },
      "source": [
        "class DataGen(keras.utils.Sequence):\n",
        "    def __init__(self, ids, path, batch_size=8, image_size=128):\n",
        "        self.ids = ids\n",
        "        self.path = path\n",
        "        self.batch_size = batch_size\n",
        "        self.image_size = image_size\n",
        "        self.on_epoch_end()\n",
        "\n",
        "    def __load__(self, id_name):\n",
        "        '''image_path =\"/content/drive/MyDrive/CrackConcreteDataset/Train/images\"'''\n",
        "        ''''mask_path = \"/content/drive/MyDrive/CrackConcreteDataset/Train/masks\"'''\n",
        "        image_path=self.path+\"/images/\"+id_name\n",
        "\n",
        "        mask_path=self.path+\"/masks/\"+id_name\n",
        "\n",
        "        image = cv2.imread(image_path, 1)\n",
        "        image = cv2.resize(image, (self.image_size, self.image_size))\n",
        "        mask = cv2.imread(mask_path, -1)\n",
        "        mask = cv2.resize(mask, (self.image_size, self.image_size))\n",
        "        mask=np.expand_dims(mask, axis=-1)\n",
        "        image = image/255.0\n",
        "        mask = mask/255.0\n",
        "\n",
        "        return image, mask\n",
        "\n",
        "    def __getitem__(self, index):\n",
        "        if(index+1)*self.batch_size > len(self.ids):\n",
        "            self.batch_size = len(self.ids) - index*self.batch_size\n",
        "\n",
        "        files_batch = self.ids[index*self.batch_size : (index+1)*self.batch_size]\n",
        "\n",
        "        image = []\n",
        "        mask  = []\n",
        "\n",
        "        for id_name in files_batch:\n",
        "            _img, _mask = self.__load__(id_name)\n",
        "            image.append(_img)\n",
        "            mask.append(_mask)\n",
        "\n",
        "        image = np.array(image)\n",
        "        mask  = np.array(mask)\n",
        "\n",
        "        return image,mask\n",
        "\n",
        "    def on_epoch_end(self):\n",
        "        pass\n",
        "\n",
        "    def __len__(self):\n",
        "        return int(np.ceil(len(self.ids)/float(self.batch_size)))"
      ],
      "execution_count": null,
      "outputs": []
    },
    {
      "cell_type": "code",
      "metadata": {
        "id": "KQcUcs0ntETx"
      },
      "source": [
        "import math\n",
        "image_size = 128\n",
        "train_path = \"/content/drive/MyDrive/CrackConcreteDataset/Train/images\"\n",
        "epochs = 25\n",
        "batch_size = 8\n",
        "\n",
        "train_ids=os.listdir(train_path)\n",
        "\n",
        "val_data_size = math.ceil(0.1*len(train_ids))\n",
        "\n",
        "val_ids = train_ids[:val_data_size]\n",
        "train_ids = train_ids[val_data_size:]\n"
      ],
      "execution_count": null,
      "outputs": []
    },
    {
      "cell_type": "code",
      "metadata": {
        "id": "XgNlrUQEtJIU",
        "colab": {
          "base_uri": "https://localhost:8080/"
        },
        "outputId": "48d4cf48-77ba-4b27-bc9b-979ce6f11aeb"
      },
      "source": [
        "\n",
        "train_path = \"/content/drive/MyDrive/CrackConcreteDataset/Train\"\n",
        "gen = DataGen(train_ids, train_path, batch_size=batch_size, image_size=image_size)\n",
        "x, y = gen.__getitem__(0)\n",
        "print(x.shape, y.shape)\n"
      ],
      "execution_count": null,
      "outputs": [
        {
          "output_type": "stream",
          "text": [
            "(8, 128, 128, 3) (8, 128, 128, 1)\n"
          ],
          "name": "stdout"
        }
      ]
    },
    {
      "cell_type": "code",
      "metadata": {
        "id": "BcD175kftN_6",
        "colab": {
          "base_uri": "https://localhost:8080/",
          "height": 208
        },
        "outputId": "16ecef4e-15de-41da-cc21-d4fdbedea4f9"
      },
      "source": [
        "r = random.randint(0, len(x)-1)\n",
        "\n",
        "fig = plt.figure()\n",
        "fig.subplots_adjust(hspace=0.4, wspace=0.4)\n",
        "ax = fig.add_subplot(1, 2, 1)\n",
        "ax.imshow(x[r])\n",
        "ax = fig.add_subplot(1, 2, 2)\n",
        "ax.imshow(np.reshape(y[r], (image_size, image_size)), cmap=\"gray\")\n"
      ],
      "execution_count": null,
      "outputs": [
        {
          "output_type": "execute_result",
          "data": {
            "text/plain": [
              "<matplotlib.image.AxesImage at 0x7fb566d14b90>"
            ]
          },
          "metadata": {
            "tags": []
          },
          "execution_count": 9
        },
        {
          "output_type": "display_data",
          "data": {
            "image/png": "[encoded data removed]",
            "text/plain": [
              "<Figure size 432x288 with 2 Axes>"
            ]
          },
          "metadata": {
            "tags": [],
            "needs_background": "light"
          }
        }
      ]
    },
    {
      "cell_type": "code",
      "metadata": {
        "id": "ixHajwD5taNH"
      },
      "source": [
        "def down_block(x, filters, kernel_size=(3, 3), padding=\"same\", strides=1):\n",
        "    c = keras.layers.Conv2D(filters, kernel_size, padding=padding, strides=strides, activation=\"relu\")(x)\n",
        "    c = keras.layers.Conv2D(filters, kernel_size, padding=padding, strides=strides, activation=\"relu\")(c)\n",
        "    p = keras.layers.MaxPool2D((2, 2), (2, 2))(c)\n",
        "    return c, p\n",
        "\n",
        "def up_block(x, skip, filters, kernel_size=(3, 3), padding=\"same\", strides=1):\n",
        "    us = keras.layers.UpSampling2D((2, 2))(x)\n",
        "    concat = keras.layers.Concatenate()([us, skip])\n",
        "    c = keras.layers.Conv2D(filters, kernel_size, padding=padding, strides=strides, activation=\"relu\")(concat)\n",
        "    c = keras.layers.Conv2D(filters, kernel_size, padding=padding, strides=strides, activation=\"relu\")(c)\n",
        "    return c\n",
        "\n",
        "def bottleneck(x, filters, kernel_size=(3, 3), padding=\"same\", strides=1):\n",
        "    c = keras.layers.Conv2D(filters, kernel_size, padding=padding, strides=strides, activation=\"relu\")(x)\n",
        "    c = keras.layers.Conv2D(filters, kernel_size, padding=padding, strides=strides, activation=\"relu\")(c)\n",
        "    return c\n",
        "\n"
      ],
      "execution_count": null,
      "outputs": []
    },
    {
      "cell_type": "code",
      "metadata": {
        "id": "nxl3dUbIta4N"
      },
      "source": [
        "def UNet():\n",
        "    f = [16, 32, 64, 128, 256]\n",
        "    inputs = keras.layers.Input((image_size, image_size, 3))\n",
        "\n",
        "    p0 = inputs\n",
        "    c1, p1 = down_block(p0, f[0])\n",
        "    c2, p2 = down_block(p1, f[1])\n",
        "    c3, p3 = down_block(p2, f[2])\n",
        "    c4, p4 = down_block(p3, f[3])\n",
        "\n",
        "    bn = bottleneck(p4, f[4])\n",
        "\n",
        "    u1 = up_block(bn, c4, f[3])\n",
        "    u2 = up_block(u1, c3, f[2])\n",
        "    u3 = up_block(u2, c2, f[1])\n",
        "    u4 = up_block(u3, c1, f[0])\n",
        "\n",
        "    outputs = keras.layers.Conv2D(1, (1, 1), padding=\"same\", activation=\"sigmoid\")(u4)\n",
        "    model = keras.models.Model(inputs, outputs)\n",
        "    return model"
      ],
      "execution_count": null,
      "outputs": []
    },
    {
      "cell_type": "code",
      "metadata": {
        "id": "cXlXtNcRthjB",
        "colab": {
          "base_uri": "https://localhost:8080/"
        },
        "outputId": "a6b3babc-6429-46db-f748-340bb0b3781f"
      },
      "source": [
        "model = UNet()\n",
        "model.compile(optimizer=\"adam\", loss=\"binary_crossentropy\", metrics=[\"acc\"])\n",
        "model.summary()"
      ],
      "execution_count": null,
      "outputs": [
        {
          "output_type": "stream",
          "text": [
            "Model: \"model\"\n",
            "__________________________________________________________________________________________________\n",
            "Layer (type)                    Output Shape         Param #     Connected to                     \n",
            "==================================================================================================\n",
            "input_1 (InputLayer)            [(None, 128, 128, 3) 0                                            \n",
            "__________________________________________________________________________________________________\n",
            "conv2d (Conv2D)                 (None, 128, 128, 16) 448         input_1[0][0]                    \n",
            "__________________________________________________________________________________________________\n",
            "conv2d_1 (Conv2D)               (None, 128, 128, 16) 2320        conv2d[0][0]                     \n",
            "__________________________________________________________________________________________________\n",
            "max_pooling2d (MaxPooling2D)    (None, 64, 64, 16)   0           conv2d_1[0][0]                   \n",
            "__________________________________________________________________________________________________\n",
            "conv2d_2 (Conv2D)               (None, 64, 64, 32)   4640        max_pooling2d[0][0]              \n",
            "__________________________________________________________________________________________________\n",
            "conv2d_3 (Conv2D)               (None, 64, 64, 32)   9248        conv2d_2[0][0]                   \n",
            "__________________________________________________________________________________________________\n",
            "max_pooling2d_1 (MaxPooling2D)  (None, 32, 32, 32)   0           conv2d_3[0][0]                   \n",
            "__________________________________________________________________________________________________\n",
            "conv2d_4 (Conv2D)               (None, 32, 32, 64)   18496       max_pooling2d_1[0][0]            \n",
            "__________________________________________________________________________________________________\n",
            "conv2d_5 (Conv2D)               (None, 32, 32, 64)   36928       conv2d_4[0][0]                   \n",
            "__________________________________________________________________________________________________\n",
            "max_pooling2d_2 (MaxPooling2D)  (None, 16, 16, 64)   0           conv2d_5[0][0]                   \n",
            "__________________________________________________________________________________________________\n",
            "conv2d_6 (Conv2D)               (None, 16, 16, 128)  73856       max_pooling2d_2[0][0]            \n",
            "__________________________________________________________________________________________________\n",
            "conv2d_7 (Conv2D)               (None, 16, 16, 128)  147584      conv2d_6[0][0]                   \n",
            "__________________________________________________________________________________________________\n",
            "max_pooling2d_3 (MaxPooling2D)  (None, 8, 8, 128)    0           conv2d_7[0][0]                   \n",
            "__________________________________________________________________________________________________\n",
            "conv2d_8 (Conv2D)               (None, 8, 8, 256)    295168      max_pooling2d_3[0][0]            \n",
            "__________________________________________________________________________________________________\n",
            "conv2d_9 (Conv2D)               (None, 8, 8, 256)    590080      conv2d_8[0][0]                   \n",
            "__________________________________________________________________________________________________\n",
            "up_sampling2d (UpSampling2D)    (None, 16, 16, 256)  0           conv2d_9[0][0]                   \n",
            "__________________________________________________________________________________________________\n",
            "concatenate (Concatenate)       (None, 16, 16, 384)  0           up_sampling2d[0][0]              \n",
            "                                                                 conv2d_7[0][0]                   \n",
            "__________________________________________________________________________________________________\n",
            "conv2d_10 (Conv2D)              (None, 16, 16, 128)  442496      concatenate[0][0]                \n",
            "__________________________________________________________________________________________________\n",
            "conv2d_11 (Conv2D)              (None, 16, 16, 128)  147584      conv2d_10[0][0]                  \n",
            "__________________________________________________________________________________________________\n",
            "up_sampling2d_1 (UpSampling2D)  (None, 32, 32, 128)  0           conv2d_11[0][0]                  \n",
            "__________________________________________________________________________________________________\n",
            "concatenate_1 (Concatenate)     (None, 32, 32, 192)  0           up_sampling2d_1[0][0]            \n",
            "                                                                 conv2d_5[0][0]                   \n",
            "__________________________________________________________________________________________________\n",
            "conv2d_12 (Conv2D)              (None, 32, 32, 64)   110656      concatenate_1[0][0]              \n",
            "__________________________________________________________________________________________________\n",
            "conv2d_13 (Conv2D)              (None, 32, 32, 64)   36928       conv2d_12[0][0]                  \n",
            "__________________________________________________________________________________________________\n",
            "up_sampling2d_2 (UpSampling2D)  (None, 64, 64, 64)   0           conv2d_13[0][0]                  \n",
            "__________________________________________________________________________________________________\n",
            "concatenate_2 (Concatenate)     (None, 64, 64, 96)   0           up_sampling2d_2[0][0]            \n",
            "                                                                 conv2d_3[0][0]                   \n",
            "__________________________________________________________________________________________________\n",
            "conv2d_14 (Conv2D)              (None, 64, 64, 32)   27680       concatenate_2[0][0]              \n",
            "__________________________________________________________________________________________________\n",
            "conv2d_15 (Conv2D)              (None, 64, 64, 32)   9248        conv2d_14[0][0]                  \n",
            "__________________________________________________________________________________________________\n",
            "up_sampling2d_3 (UpSampling2D)  (None, 128, 128, 32) 0           conv2d_15[0][0]                  \n",
            "__________________________________________________________________________________________________\n",
            "concatenate_3 (Concatenate)     (None, 128, 128, 48) 0           up_sampling2d_3[0][0]            \n",
            "                                                                 conv2d_1[0][0]                   \n",
            "__________________________________________________________________________________________________\n",
            "conv2d_16 (Conv2D)              (None, 128, 128, 16) 6928        concatenate_3[0][0]              \n",
            "__________________________________________________________________________________________________\n",
            "conv2d_17 (Conv2D)              (None, 128, 128, 16) 2320        conv2d_16[0][0]                  \n",
            "__________________________________________________________________________________________________\n",
            "conv2d_18 (Conv2D)              (None, 128, 128, 1)  17          conv2d_17[0][0]                  \n",
            "==================================================================================================\n",
            "Total params: 1,962,625\n",
            "Trainable params: 1,962,625\n",
            "Non-trainable params: 0\n",
            "__________________________________________________________________________________________________\n"
          ],
          "name": "stdout"
        }
      ]
    },
    {
      "cell_type": "markdown",
      "metadata": {
        "id": "XL2hLcAL8EPa"
      },
      "source": [
        "### Training Phase"
      ]
    },
    {
      "cell_type": "code",
      "metadata": {
        "id": "FL6Z7zSp_paM"
      },
      "source": [
        "train_gen = DataGen(train_ids, train_path, image_size=image_size, batch_size=batch_size)\n",
        "valid_gen = DataGen(val_ids, train_path, image_size=image_size, batch_size=batch_size)\n",
        "\n",
        "train_steps = len(train_ids)//batch_size\n",
        "valid_steps = len(val_ids)//batch_size"
      ],
      "execution_count": null,
      "outputs": []
    },
    {
      "cell_type": "code",
      "metadata": {
        "id": "4REemBuH1fBF",
        "colab": {
          "base_uri": "https://localhost:8080/"
        },
        "outputId": "dc33e0b3-00f4-4090-c0f5-a4aff26ee1b1"
      },
      "source": [
        "x, y = valid_gen.__getitem__(0)\n",
        "print(x.shape, y.shape)"
      ],
      "execution_count": null,
      "outputs": [
        {
          "output_type": "stream",
          "text": [
            "(8, 128, 128, 3) (8, 128, 128, 1)\n"
          ],
          "name": "stdout"
        }
      ]
    },
    {
      "cell_type": "code",
      "metadata": {
        "id": "41MEYzNr_xve",
        "colab": {
          "base_uri": "https://localhost:8080/"
        },
        "outputId": "35f8373a-820b-43d5-ef09-0e9b909ca818"
      },
      "source": [
        "\n",
        "hist = model.fit_generator(train_gen, validation_data=valid_gen, steps_per_epoch=train_steps, validation_steps=valid_steps, epochs=25)"
      ],
      "execution_count": null,
      "outputs": [
        {
          "output_type": "stream",
          "text": [
            "/usr/local/lib/python3.7/dist-packages/tensorflow/python/keras/engine/training.py:1940: UserWarning: `Model.fit_generator` is deprecated and will be removed in a future version. Please use `Model.fit`, which supports generators.\n",
            "  warnings.warn('`Model.fit_generator` is deprecated and '\n"
          ],
          "name": "stderr"
        },
        {
          "output_type": "stream",
          "text": [
            "Epoch 1/25\n",
            "332/332 [==============================] - 1201s 4s/step - loss: 0.1640 - acc: 0.9364 - val_loss: 0.1251 - val_acc: 0.9360\n",
            "Epoch 2/25\n",
            "332/332 [==============================] - 198s 596ms/step - loss: 0.1263 - acc: 0.9415 - val_loss: 0.1168 - val_acc: 0.9389\n",
            "Epoch 3/25\n",
            "332/332 [==============================] - 101s 304ms/step - loss: 0.1280 - acc: 0.9403 - val_loss: 0.1018 - val_acc: 0.9436\n",
            "Epoch 4/25\n",
            "332/332 [==============================] - 95s 286ms/step - loss: 0.1130 - acc: 0.9457 - val_loss: 0.1116 - val_acc: 0.9406\n",
            "Epoch 5/25\n",
            "332/332 [==============================] - 93s 282ms/step - loss: 0.1085 - acc: 0.9463 - val_loss: 0.0991 - val_acc: 0.9431\n",
            "Epoch 6/25\n",
            "332/332 [==============================] - 94s 283ms/step - loss: 0.1041 - acc: 0.9462 - val_loss: 0.0977 - val_acc: 0.9440\n",
            "Epoch 7/25\n",
            "332/332 [==============================] - 93s 280ms/step - loss: 0.0961 - acc: 0.9489 - val_loss: 0.0876 - val_acc: 0.9474\n",
            "Epoch 8/25\n",
            "332/332 [==============================] - 93s 280ms/step - loss: 0.0939 - acc: 0.9502 - val_loss: 0.1047 - val_acc: 0.9441\n",
            "Epoch 9/25\n",
            "332/332 [==============================] - 94s 282ms/step - loss: 0.0959 - acc: 0.9487 - val_loss: 0.0871 - val_acc: 0.9486\n",
            "Epoch 10/25\n",
            "332/332 [==============================] - 93s 281ms/step - loss: 0.0906 - acc: 0.9518 - val_loss: 0.0920 - val_acc: 0.9481\n",
            "Epoch 11/25\n",
            "332/332 [==============================] - 93s 280ms/step - loss: 0.0865 - acc: 0.9525 - val_loss: 0.0853 - val_acc: 0.9501\n",
            "Epoch 12/25\n",
            "332/332 [==============================] - 94s 282ms/step - loss: 0.0876 - acc: 0.9517 - val_loss: 0.0872 - val_acc: 0.9490\n",
            "Epoch 13/25\n",
            "332/332 [==============================] - 93s 280ms/step - loss: 0.0922 - acc: 0.9508 - val_loss: 0.0871 - val_acc: 0.9484\n",
            "Epoch 14/25\n",
            "332/332 [==============================] - 93s 280ms/step - loss: 0.0853 - acc: 0.9530 - val_loss: 0.1086 - val_acc: 0.9463\n",
            "Epoch 15/25\n",
            "332/332 [==============================] - 93s 280ms/step - loss: 0.0893 - acc: 0.9518 - val_loss: 0.0843 - val_acc: 0.9490\n",
            "Epoch 16/25\n",
            "332/332 [==============================] - 93s 280ms/step - loss: 0.0860 - acc: 0.9521 - val_loss: 0.0843 - val_acc: 0.9488\n",
            "Epoch 17/25\n",
            "332/332 [==============================] - 93s 279ms/step - loss: 0.0845 - acc: 0.9520 - val_loss: 0.0775 - val_acc: 0.9513\n",
            "Epoch 18/25\n",
            "332/332 [==============================] - 93s 279ms/step - loss: 0.0857 - acc: 0.9525 - val_loss: 0.0793 - val_acc: 0.9501\n",
            "Epoch 19/25\n",
            "332/332 [==============================] - 93s 279ms/step - loss: 0.0836 - acc: 0.9532 - val_loss: 0.0833 - val_acc: 0.9502\n",
            "Epoch 20/25\n",
            "332/332 [==============================] - 93s 279ms/step - loss: 0.0825 - acc: 0.9531 - val_loss: 0.0920 - val_acc: 0.9457\n",
            "Epoch 21/25\n",
            "332/332 [==============================] - 93s 279ms/step - loss: 0.0845 - acc: 0.9516 - val_loss: 0.0834 - val_acc: 0.9500\n",
            "Epoch 22/25\n",
            "332/332 [==============================] - 94s 283ms/step - loss: 0.0848 - acc: 0.9535 - val_loss: 0.0856 - val_acc: 0.9497\n",
            "Epoch 23/25\n",
            "332/332 [==============================] - 96s 290ms/step - loss: 0.0842 - acc: 0.9537 - val_loss: 0.1038 - val_acc: 0.9434\n",
            "Epoch 24/25\n",
            "332/332 [==============================] - 96s 289ms/step - loss: 0.0794 - acc: 0.9544 - val_loss: 0.0892 - val_acc: 0.9477\n",
            "Epoch 25/25\n",
            "332/332 [==============================] - 96s 288ms/step - loss: 0.0817 - acc: 0.9538 - val_loss: 0.0830 - val_acc: 0.9502\n"
          ],
          "name": "stdout"
        }
      ]
    },
    {
      "cell_type": "code",
      "metadata": {
        "id": "r3Ft0Ije96fo",
        "colab": {
          "base_uri": "https://localhost:8080/",
          "height": 497
        },
        "outputId": "279f28d8-d672-4b9f-8b17-477a0c7873ec"
      },
      "source": [
        "plt.figure(figsize=(8, 8))\n",
        "plt.plot(hist.history[\"acc\"], label=\"acc\")\n",
        "plt.plot(hist.history[\"val_acc\"], label=\"val_acc\")\n",
        "plt.xlabel(\"Epochs\")\n",
        "plt.ylabel(\"Accuracy\")\n",
        "plt.legend();"
      ],
      "execution_count": null,
      "outputs": [
        {
          "output_type": "display_data",
          "data": {
            "image/png": "[encoded data removed]",
            "text/plain": [
              "<Figure size 576x576 with 1 Axes>"
            ]
          },
          "metadata": {
            "tags": [],
            "needs_background": "light"
          }
        }
      ]
    },
    {
      "cell_type": "code",
      "metadata": {
        "id": "fTB3apuv3hxR",
        "colab": {
          "base_uri": "https://localhost:8080/",
          "height": 497
        },
        "outputId": "cd9a6254-f4cb-4895-daa8-21275d21e148"
      },
      "source": [
        "plt.figure(figsize=(8, 8))\n",
        "plt.plot(hist.history[\"loss\"], label=\"loss\")\n",
        "plt.plot(hist.history[\"val_loss\"], label=\"val_loss\")\n",
        "plt.plot( np.argmin(hist.history[\"val_loss\"]), np.min(hist.history[\"val_loss\"]), marker=\"x\", color=\"r\", label=\"best model\")\n",
        "plt.xlabel(\"Epochs\")\n",
        "plt.ylabel(\"log_loss\")\n",
        "plt.legend();"
      ],
      "execution_count": null,
      "outputs": [
        {
          "output_type": "display_data",
          "data": {
            "image/png": "[encoded data removed]",
            "text/plain": [
              "<Figure size 576x576 with 1 Axes>"
            ]
          },
          "metadata": {
            "tags": [],
            "needs_background": "light"
          }
        }
      ]
    },
    {
      "cell_type": "code",
      "metadata": {
        "id": "LT621N___4Oq"
      },
      "source": [
        "x, y = valid_gen.__getitem__(10)\n",
        "result = model.predict(x)\n",
        "\n",
        "result = result > 0.5"
      ],
      "execution_count": null,
      "outputs": []
    },
    {
      "cell_type": "code",
      "metadata": {
        "id": "ulpk7RcPaIk1",
        "colab": {
          "base_uri": "https://localhost:8080/"
        },
        "outputId": "c83c6b1f-95ce-47da-f32c-71532fd2fc18"
      },
      "source": [
        "y.shape"
      ],
      "execution_count": null,
      "outputs": [
        {
          "output_type": "execute_result",
          "data": {
            "text/plain": [
              "(8, 128, 128, 1)"
            ]
          },
          "metadata": {
            "tags": []
          },
          "execution_count": 21
        }
      ]
    },
    {
      "cell_type": "code",
      "metadata": {
        "id": "mNFoExbbGhgU",
        "colab": {
          "base_uri": "https://localhost:8080/",
          "height": 208
        },
        "outputId": "0b220512-13a6-4f2d-aa36-6e2bb495538b"
      },
      "source": [
        "fig = plt.figure()\n",
        "fig.subplots_adjust(hspace=0.4, wspace=0.4)\n",
        "\n",
        "ax = fig.add_subplot(1, 2, 1)\n",
        "ax.imshow(np.reshape(y[0]*255, (image_size, image_size)), cmap=\"gray\")\n",
        "\n",
        "ax = fig.add_subplot(1, 2, 2)\n",
        "ax.imshow(np.reshape(result[0]*255, (image_size, image_size)), cmap=\"gray\")"
      ],
      "execution_count": null,
      "outputs": [
        {
          "output_type": "execute_result",
          "data": {
            "text/plain": [
              "<matplotlib.image.AxesImage at 0x7fb55b364950>"
            ]
          },
          "metadata": {
            "tags": []
          },
          "execution_count": 22
        },
        {
          "output_type": "display_data",
          "data": {
            "image/png": "[encoded data removed]",
            "text/plain": [
              "<Figure size 432x288 with 2 Axes>"
            ]
          },
          "metadata": {
            "tags": [],
            "needs_background": "light"
          }
        }
      ]
    },
    {
      "cell_type": "markdown",
      "metadata": {
        "id": "LrzpJtor8SBn"
      },
      "source": [
        "### Testing Phase"
      ]
    },
    {
      "cell_type": "code",
      "metadata": {
        "id": "JoOBxJYrA1G6"
      },
      "source": [
        "test_path = \"/content/drive/MyDrive/CrackConcreteDataset/Test\"\n",
        "test_ids=os.listdir(test_path+\"/images\")\n",
        "test_gen = DataGen(test_ids, test_path, image_size=image_size, batch_size=batch_size)"
      ],
      "execution_count": null,
      "outputs": []
    },
    {
      "cell_type": "code",
      "metadata": {
        "id": "hrIpm9T2Cdy6"
      },
      "source": [
        "x, y = test_gen.__getitem__(6)\n",
        "result = model.predict(x)\n",
        "\n",
        "result = result > 0.5\n"
      ],
      "execution_count": null,
      "outputs": []
    },
    {
      "cell_type": "code",
      "metadata": {
        "id": "TPSK4UCaCXpC",
        "colab": {
          "base_uri": "https://localhost:8080/",
          "height": 208
        },
        "outputId": "1f7a0982-748d-44a4-8f7f-013f0885f1ae"
      },
      "source": [
        "fig = plt.figure()\n",
        "fig.subplots_adjust(hspace=0.4, wspace=0.4)\n",
        "\n",
        "ax = fig.add_subplot(1, 2, 1)\n",
        "ax.imshow(np.reshape(y[7]*255, (image_size, image_size)), cmap=\"gray\")\n",
        "\n",
        "ax = fig.add_subplot(1, 2, 2)\n",
        "ax.imshow(np.reshape(result[7]*255, (image_size, image_size)), cmap=\"gray\")"
      ],
      "execution_count": null,
      "outputs": [
        {
          "output_type": "execute_result",
          "data": {
            "text/plain": [
              "<matplotlib.image.AxesImage at 0x7fb55b191bd0>"
            ]
          },
          "metadata": {
            "tags": []
          },
          "execution_count": 25
        },
        {
          "output_type": "display_data",
          "data": {
            "image/png": "[encoded data removed]",
            "text/plain": [
              "<Figure size 432x288 with 2 Axes>"
            ]
          },
          "metadata": {
            "tags": [],
            "needs_background": "light"
          }
        }
      ]
    },
    {
      "cell_type": "code",
      "metadata": {
        "id": "yGbomfENLsre"
      },
      "source": [
        "fig = plt.figure()\n",
        "fig.subplots_adjust(hspace=0.4, wspace=0.4)\n",
        "\n",
        "ax = fig.add_subplot(1, 2, 1)\n",
        "ax.imshow(np.reshape(y[0]*255, (image_size, image_size)), cmap=\"gray\")\n",
        "\n",
        "ax = fig.add_subplot(1, 2, 2)\n",
        "ax.imshow(np.reshape(result[0]*255, (image_size, image_size)), cmap=\"gray\")"
      ],
      "execution_count": null,
      "outputs": []
    },
    {
      "cell_type": "code",
      "metadata": {
        "id": "zewwErhsLvHk"
      },
      "source": [
        "fig = plt.figure()\n",
        "fig.subplots_adjust(hspace=0.4, wspace=0.4)\n",
        "\n",
        "ax = fig.add_subplot(1, 2, 1)\n",
        "ax.imshow(np.reshape(y[7]*255, (image_size, image_size)), cmap=\"gray\")\n",
        "\n",
        "ax = fig.add_subplot(1, 2, 2)\n",
        "ax.imshow(np.reshape(result[7]*255, (image_size, image_size)), cmap=\"gray\")"
      ],
      "execution_count": null,
      "outputs": []
    },
    {
      "cell_type": "code",
      "metadata": {
        "id": "tXS5M-k4Ieu-"
      },
      "source": [
        "x, y = test_gen.__getitem__(10)\n",
        "result = model.predict(x)\n",
        "\n",
        "result = result > 0.5\n",
        "fig = plt.figure()\n",
        "fig.subplots_adjust(hspace=0.4, wspace=0.4)\n",
        "\n",
        "ax = fig.add_subplot(1, 3, 1)\n",
        "ax.imshow(np.reshape(y[7]*255, (image_size, image_size)), cmap=\"gray\")\n",
        "\n",
        "ax = fig.add_subplot(1, 3, 2)\n",
        "ax.imshow(np.reshape(result[7]*255, (image_size, image_size)), cmap=\"gray\")\n",
        "ax = fig.add_subplot(1, 3, 3)\n",
        "ax.imshow(x[7])"
      ],
      "execution_count": null,
      "outputs": []
    },
    {
      "cell_type": "code",
      "metadata": {
        "id": "g-3ylNXTJvl8"
      },
      "source": [
        "import cv2\n",
        "import cv2 as cv\n",
        "import numpy as np\n",
        "img_original=x[7]\n",
        "mask=np.reshape(result[7]*255, (image_size, image_size))\n",
        "mask.shape\n",
        "\n",
        "mask.shape\n",
        "mask8=np.array(mask,dtype=np.uint8)\n",
        "mask8.shape\n",
        "mask_rgb=cv2.cvtColor(mask8,cv2.COLOR_GRAY2RGB)\n",
        "\n",
        "blue =np.array([0,0,255])\n",
        "new_img=(img_original+mask_rgb)\n",
        "'''for i in range(0,new_img.shape[0]):\n",
        "  for j in range(0,new_img.shape[0]):\n",
        "    if(all(new_img[i][j]==255)):\n",
        "      #print('entered')\n",
        "      #img[i][j]=blue\n",
        "plt.imshow(new_img)'''\n",
        "new_img[new_img>255]=255\n",
        "for i in range(0,new_img.shape[0]):\n",
        "  for j in range(0,new_img.shape[0]):\n",
        "    if(all(new_img[i][j]==255)):\n",
        "      new_img[i][j]=blue\n",
        "plt.imshow(new_img)"
      ],
      "execution_count": null,
      "outputs": []
    },
    {
      "cell_type": "code",
      "metadata": {
        "id": "EQ-7pgn3sKYC"
      },
      "source": [
        "x, y = test_gen.__getitem__(4)\n",
        "result = model.predict(x)\n",
        "\n",
        "result = result > 0.5\n",
        "fig = plt.figure()\n",
        "fig.subplots_adjust(hspace=0.4, wspace=0.4)\n",
        "\n",
        "ax = fig.add_subplot(1, 3, 1)\n",
        "ax.imshow(np.reshape(y[0]*255, (image_size, image_size)), cmap=\"gray\")\n",
        "\n",
        "ax = fig.add_subplot(1, 3, 2)\n",
        "ax.imshow(np.reshape(result[0]*255, (image_size, image_size)), cmap=\"gray\")\n",
        "ax = fig.add_subplot(1, 3, 3)\n",
        "ax.imshow(x[0])"
      ],
      "execution_count": null,
      "outputs": []
    },
    {
      "cell_type": "code",
      "metadata": {
        "id": "TTgJsG3UsVR7"
      },
      "source": [
        "import cv2\n",
        "import cv2 as cv\n",
        "import numpy as np\n",
        "img_original=x[0]\n",
        "mask=np.reshape(result[0]*255, (image_size, image_size))\n",
        "mask.shape\n",
        "\n",
        "mask.shape\n",
        "mask8=np.array(mask,dtype=np.uint8)\n",
        "mask8.shape\n",
        "mask_rgb=cv2.cvtColor(mask8,cv2.COLOR_GRAY2RGB)\n",
        "\n",
        "blue=np.array([0,0,255])\n",
        "new_img=(img_original+mask_rgb)\n",
        "'''for i in range(0,new_img.shape[0]):\n",
        "  for j in range(0,new_img.shape[0]):\n",
        "    if(all(new_img[i][j]==255)):\n",
        "      #print('entered')\n",
        "      #img[i][j]=blue\n",
        "plt.imshow(new_img)'''\n",
        "\n",
        "new_img[new_img>255]=255\n",
        "\n",
        "for i in range(0,new_img.shape[0]):\n",
        "  for j in range(0,new_img.shape[0]):\n",
        "    if(all(new_img[i][j]==255)):\n",
        "      new_img[i][j]=blue\n",
        "fig = plt.figure()\n",
        "fig.subplots_adjust(hspace=0.4, wspace=0.4)\n",
        "\n",
        "ax = fig.add_subplot(1, 2, 1)\n",
        "ax.imshow(img_original)\n",
        "\n",
        "ax = fig.add_subplot(1, 2, 2)\n",
        "ax.imshow(new_img)\n"
      ],
      "execution_count": null,
      "outputs": []
    },
    {
      "cell_type": "code",
      "metadata": {
        "id": "0d8WZCVzt1R_"
      },
      "source": [
        "x, y = test_gen.__getitem__(4)\n",
        "result = model.predict(x)\n",
        "\n",
        "result = result > 0.5\n",
        "fig = plt.figure()\n",
        "fig.subplots_adjust(hspace=0.4, wspace=0.4)\n",
        "\n",
        "ax = fig.add_subplot(1, 3, 1)\n",
        "ax.imshow(np.reshape(y[7]*255, (image_size, image_size)), cmap=\"gray\")\n",
        "\n",
        "ax = fig.add_subplot(1, 3, 2)\n",
        "ax.imshow(np.reshape(result[7]*255, (image_size, image_size)), cmap=\"gray\")\n",
        "ax = fig.add_subplot(1, 3, 3)\n",
        "ax.imshow(x[7])"
      ],
      "execution_count": null,
      "outputs": []
    },
    {
      "cell_type": "code",
      "metadata": {
        "id": "acGYEIAPuPrm"
      },
      "source": [
        "import cv2\n",
        "import cv2 as cv\n",
        "import numpy as np\n",
        "img_original=x[7]\n",
        "mask=np.reshape(result[7]*255, (image_size, image_size))\n",
        "mask.shape\n",
        "\n",
        "mask.shape\n",
        "mask8=np.array(mask,dtype=np.uint8)\n",
        "mask8.shape\n",
        "mask_rgb=cv2.cvtColor(mask8,cv2.COLOR_GRAY2RGB)\n",
        "\n",
        "blue=np.array([0,0,255])\n",
        "new_img=(img_original+mask_rgb)\n",
        "'''for i in range(0,new_img.shape[0]):\n",
        "  for j in range(0,new_img.shape[0]):\n",
        "    if(all(new_img[i][j]==255)):\n",
        "      #print('entered')\n",
        "      #img[i][j]=blue\n",
        "plt.imshow(new_img)'''\n",
        "new_img[new_img>255]=255\n",
        "for i in range(0,new_img.shape[0]):\n",
        "  for j in range(0,new_img.shape[0]):\n",
        "    if(all(new_img[i][j]==255)):\n",
        "      new_img[i][j]=blue\n",
        "fig = plt.figure()\n",
        "fig.subplots_adjust(hspace=0.4, wspace=0.4)\n",
        "\n",
        "ax = fig.add_subplot(1, 2, 1)\n",
        "ax.imshow(img_original)\n",
        "\n",
        "ax = fig.add_subplot(1, 2, 2)\n",
        "ax.imshow(new_img)"
      ],
      "execution_count": null,
      "outputs": []
    },
    {
      "cell_type": "code",
      "metadata": {
        "id": "w3NqJQNuu2JF"
      },
      "source": [
        "x, y = test_gen.__getitem__(1)\n",
        "result = model.predict(x)\n",
        "\n",
        "result = result > 0.5\n",
        "fig = plt.figure()\n",
        "fig.subplots_adjust(hspace=0.4, wspace=0.4)\n",
        "\n",
        "ax = fig.add_subplot(1, 3, 1)\n",
        "ax.imshow(np.reshape(y[0]*255, (image_size, image_size)), cmap=\"gray\")\n",
        "\n",
        "ax = fig.add_subplot(1, 3, 2)\n",
        "ax.imshow(np.reshape(result[0]*255, (image_size, image_size)), cmap=\"gray\")\n",
        "ax = fig.add_subplot(1, 3, 3)\n",
        "ax.imshow(x[0])"
      ],
      "execution_count": null,
      "outputs": []
    },
    {
      "cell_type": "code",
      "metadata": {
        "id": "ZWSfxp4qvAYN"
      },
      "source": [
        "import cv2\n",
        "import cv2 as cv\n",
        "import numpy as np\n",
        "img_original=x[0]\n",
        "mask=np.reshape(result[0]*255, (image_size, image_size))\n",
        "mask.shape\n",
        "\n",
        "mask.shape\n",
        "mask8=np.array(mask,dtype=np.uint8)\n",
        "mask8.shape\n",
        "mask_rgb=cv2.cvtColor(mask8,cv2.COLOR_GRAY2RGB)\n",
        "\n",
        "blue=np.array([0,0,255])\n",
        "new_img=(img_original+mask_rgb)\n",
        "'''for i in range(0,new_img.shape[0]):\n",
        "  for j in range(0,new_img.shape[0]):\n",
        "    if(all(new_img[i][j]==255)):\n",
        "      #print('entered')\n",
        "      #img[i][j]=blue\n",
        "plt.imshow(new_img)'''\n",
        "new_img[new_img>255]=255\n",
        "for i in range(0,new_img.shape[0]):\n",
        "  for j in range(0,new_img.shape[0]):\n",
        "    if(all(new_img[i][j]==255)):\n",
        "      new_img[i][j]=blue\n",
        "fig = plt.figure()\n",
        "fig.subplots_adjust(hspace=0.4, wspace=0.4)\n",
        "\n",
        "ax = fig.add_subplot(1, 2, 1)\n",
        "ax.imshow(img_original)\n",
        "\n",
        "ax = fig.add_subplot(1, 2, 2)\n",
        "ax.imshow(new_img)"
      ],
      "execution_count": null,
      "outputs": []
    },
    {
      "cell_type": "code",
      "metadata": {
        "id": "mXtQIJ_zwG14"
      },
      "source": [
        "x, y = test_gen.__getitem__(11)\n",
        "result = model.predict(x)\n",
        "\n",
        "result = result > 0.5\n",
        "fig = plt.figure()\n",
        "fig.subplots_adjust(hspace=0.4, wspace=0.4)\n",
        "\n",
        "ax = fig.add_subplot(1, 3, 1)\n",
        "ax.imshow(np.reshape(y[1]*255, (image_size, image_size)), cmap=\"gray\")\n",
        "\n",
        "ax = fig.add_subplot(1, 3, 2)\n",
        "ax.imshow(np.reshape(result[1]*255, (image_size, image_size)), cmap=\"gray\")\n",
        "ax = fig.add_subplot(1, 3, 3)\n",
        "ax.imshow(x[1])\n"
      ],
      "execution_count": null,
      "outputs": []
    },
    {
      "cell_type": "code",
      "metadata": {
        "id": "OxgxiXl0wOcv"
      },
      "source": [
        "import cv2\n",
        "import cv2 as cv\n",
        "import numpy as np\n",
        "img_original=x[1]\n",
        "mask=np.reshape(result[1]*255, (image_size, image_size))\n",
        "mask.shape\n",
        "\n",
        "mask.shape\n",
        "mask8=np.array(mask,dtype=np.uint8)\n",
        "mask8.shape\n",
        "mask_rgb=cv2.cvtColor(mask8,cv2.COLOR_GRAY2RGB)\n",
        "\n",
        "blue=np.array([0,0,255])\n",
        "new_img=(img_original+mask_rgb)\n",
        "'''for i in range(0,new_img.shape[0]):\n",
        "  for j in range(0,new_img.shape[0]):\n",
        "    if(all(new_img[i][j]==255)):\n",
        "      #print('entered')\n",
        "      #img[i][j]=blue\n",
        "plt.imshow(new_img)'''\n",
        "\n",
        "new_img[new_img>255]=255\n",
        "\n",
        "for i in range(0,new_img.shape[0]):\n",
        "  for j in range(0,new_img.shape[0]):\n",
        "    if(all(new_img[i][j]==255)):\n",
        "\n",
        "      new_img[i][j]=blue\n",
        "fig = plt.figure()\n",
        "fig.subplots_adjust(hspace=0.4, wspace=0.4)\n",
        "\n",
        "ax = fig.add_subplot(1, 2, 1)\n",
        "ax.imshow(img_original)\n",
        "\n",
        "ax = fig.add_subplot(1, 2, 2)\n",
        "ax.imshow(new_img)"
      ],
      "execution_count": null,
      "outputs": []
    },
    {
      "cell_type": "code",
      "metadata": {
        "id": "C1MaS_Pl1FQD"
      },
      "source": [
        "x, y = test_gen.__getitem__(12)\n",
        "result = model.predict(x)\n",
        "\n",
        "result = result > 0.5\n",
        "fig = plt.figure()\n",
        "fig.subplots_adjust(hspace=0.4, wspace=0.4)\n",
        "\n",
        "ax = fig.add_subplot(1, 3, 1)\n",
        "ax.imshow(np.reshape(y[7]*255, (image_size, image_size)), cmap=\"gray\")\n",
        "\n",
        "ax = fig.add_subplot(1, 3, 2)\n",
        "ax.imshow(np.reshape(result[7]*255, (image_size, image_size)), cmap=\"gray\")\n",
        "ax = fig.add_subplot(1, 3, 3)\n",
        "ax.imshow(x[7])"
      ],
      "execution_count": null,
      "outputs": []
    },
    {
      "cell_type": "code",
      "metadata": {
        "id": "78_j_IIi1L_L"
      },
      "source": [
        "import cv2\n",
        "import cv2 as cv\n",
        "import numpy as np\n",
        "img_original=x[7]\n",
        "mask=np.reshape(result[7]*255, (image_size, image_size))\n",
        "mask.shape\n",
        "\n",
        "mask.shape\n",
        "mask8=np.array(mask,dtype=np.uint8)\n",
        "mask8.shape\n",
        "mask_rgb=cv2.cvtColor(mask8,cv2.COLOR_GRAY2RGB)\n",
        "\n",
        "blue=np.array([0,0,255])\n",
        "new_img=(img_original+mask_rgb)\n",
        "'''for i in range(0,new_img.shape[0]):\n",
        "  for j in range(0,new_img.shape[0]):\n",
        "    if(all(new_img[i][j]==255)):\n",
        "      #print('entered')\n",
        "      #img[i][j]=blue\n",
        "plt.imshow(new_img)'''\n",
        "new_img[new_img>255]=255\n",
        "for i in range(0,new_img.shape[0]):\n",
        "  for j in range(0,new_img.shape[0]):\n",
        "    if(all(new_img[i][j]==255)):\n",
        "      new_img[i][j]=blue\n",
        "fig = plt.figure()\n",
        "fig.subplots_adjust(hspace=0.4, wspace=0.4)\n",
        "\n",
        "ax = fig.add_subplot(1, 2, 1)\n",
        "ax.imshow(img_original)\n",
        "\n",
        "ax = fig.add_subplot(1, 2, 2)\n",
        "ax.imshow(new_img)"
      ],
      "execution_count": null,
      "outputs": []
    },
    {
      "cell_type": "code",
      "metadata": {
        "id": "Z4-kcdVU-xic"
      },
      "source": [
        "import math\n",
        "image_size = 128\n",
        "test_path = \"/content/drive/MyDrive/CrackConcreteDataset/Test/images\"\n",
        "epochs = 25\n",
        "batch_size = 8\n",
        "\n",
        "## Testing ids.\n",
        "test_ids=os.listdir(test_path)\n",
        "\n",
        "actual_mask = []\n",
        "predicted_mask = []\n",
        "\n",
        "test_path = \"/content/drive/MyDrive/CrackConcreteDataset/Test\"\n",
        "test_gen = DataGen(test_ids, test_path, image_size=image_size, batch_size=batch_size)\n",
        "\n",
        "test_steps = len(test_ids)//batch_size"
      ],
      "execution_count": null,
      "outputs": []
    },
    {
      "cell_type": "code",
      "metadata": {
        "id": "mtfm0czw-mcQ"
      },
      "source": [
        "model.evaluate_generator(test_gen, steps=test_steps, callbacks=None, max_queue_size=10, workers=1, use_multiprocessing=False, verbose=0)"
      ],
      "execution_count": null,
      "outputs": []
    }
  ]
}